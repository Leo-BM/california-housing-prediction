{
  "nbformat": 4,
  "nbformat_minor": 0,
  "metadata": {
    "colab": {
      "provenance": [],
      "authorship_tag": "ABX9TyOB/2UDghj5xYqd6XcGOAGt",
      "include_colab_link": true
    },
    "kernelspec": {
      "name": "python3",
      "display_name": "Python 3"
    },
    "language_info": {
      "name": "python"
    }
  },
  "cells": [
    {
      "cell_type": "markdown",
      "metadata": {
        "id": "view-in-github",
        "colab_type": "text"
      },
      "source": [
        "<a href=\"https://colab.research.google.com/github/Leo-BM/california-housing-prediction/blob/main/housing_anlysis.ipynb\" target=\"_parent\"><img src=\"https://colab.research.google.com/assets/colab-badge.svg\" alt=\"Open In Colab\"/></a>"
      ]
    },
    {
      "cell_type": "code",
      "execution_count": null,
      "metadata": {
        "id": "zWzdnErTmW2e"
      },
      "outputs": [],
      "source": [
        "#1. Setup do Projeto\n",
        "# 2. Obter os Dados\n",
        "# 3. Exploração Inicial (EDA)\n",
        "# 4. Visualização de Dados\n",
        "# 5. Preparação dos Dados\n",
        "#    ├─ Limpeza\n",
        "#    ├─ Feature Engineering\n",
        "#    ├─ Transformadores Customizados\n",
        "#    └─ Pipelines\n",
        "# 6. Seleção e Treinamento de Modelos\n",
        "# 7. Fine-Tuning (GridSearch/RandomSearch)\n",
        "# 8. Avaliação Final\n",
        "# 9. Deployment (conceito)\n",
        "# 10. Documentação Final\n"
      ]
    },
    {
      "cell_type": "code",
      "source": [],
      "metadata": {
        "id": "QXHfrPr7m2t1"
      },
      "execution_count": null,
      "outputs": []
    }
  ]
}