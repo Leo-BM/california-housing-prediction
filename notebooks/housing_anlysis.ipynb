{
  "nbformat": 4,
  "nbformat_minor": 0,
  "metadata": {
    "colab": {
      "provenance": [],
      "authorship_tag": "ABX9TyOlwNP9aXOnGUzcuHjeYkzn",
      "include_colab_link": true
    },
    "kernelspec": {
      "name": "python3",
      "display_name": "Python 3"
    },
    "language_info": {
      "name": "python"
    }
  },
  "cells": [
    {
      "cell_type": "markdown",
      "metadata": {
        "id": "view-in-github",
        "colab_type": "text"
      },
      "source": [
        "<a href=\"https://colab.research.google.com/github/Leo-BM/california-housing-prediction/blob/main/notebooks/housing_anlysis.ipynb\" target=\"_parent\"><img src=\"https://colab.research.google.com/assets/colab-badge.svg\" alt=\"Open In Colab\"/></a>"
      ]
    },
    {
      "cell_type": "code",
      "execution_count": 3,
      "metadata": {
        "id": "zWzdnErTmW2e"
      },
      "outputs": [],
      "source": [
        "# California Housing Price Predict\n",
        "\n",
        "##  Índice\n",
        "# 1. [Setup e Importações](#setup)\n",
        "# 2. [Carregamento dos Dados](#dados)\n",
        "# 3. [Análise Exploratória](#eda)\n",
        "# 4. [Preparação dos Dados](#prep)\n",
        "# 5. [Modelagem](#model)\n",
        "# 6. [Avaliação](#eval)\n",
        "# 7. [Conclusões](#conclusao)\n",
        "\n",
        "\n"
      ]
    },
    {
      "cell_type": "code",
      "source": [
        "## 1. Setup e Importações {#setup}\n",
        "\n",
        "import pandas as pd\n",
        "import numpy as np\n",
        "import matplotlib.pyplot as plt\n",
        "import seaborn as sns\n",
        "from sklearn.model_selection import train_test_split, cross_val_score, GridSearchCV\n",
        "from sklearn.preprocessing import StandardScaler, OneHotEncoder\n",
        "from sklearn.compose import ColumnTransformer\n",
        "from sklearn.pipeline import Pipeline\n",
        "from sklearn.impute import SimpleImputer\n",
        "from sklearn.metrics import mean_squared_error, mean_absolute_error, r2_score\n",
        "\n",
        "from sklearn.linear_model import LinearRegression\n",
        "from sklearn.tree import DecisionTreeRegressor\n",
        "from sklearn.ensemble import RandomForestRegressor\n"
      ],
      "metadata": {
        "id": "QXHfrPr7m2t1"
      },
      "execution_count": 4,
      "outputs": []
    },
    {
      "cell_type": "code",
      "source": [],
      "metadata": {
        "id": "REKziG6Z-hVR"
      },
      "execution_count": null,
      "outputs": []
    }
  ]
}